{
  "cells": [
    {
      "cell_type": "markdown",
      "source": [
        "K Sharath Chand ASSIGNMENT-1 APPLIED DATA SCIENCE"
      ],
      "metadata": {
        "id": "pszcFqKtmVpd"
      },
      "id": "pszcFqKtmVpd"
    },
    {
      "cell_type": "code",
      "execution_count": 13,
      "id": "e7913b26",
      "metadata": {
        "colab": {
          "base_uri": "https://localhost:8080/"
        },
        "id": "e7913b26",
        "outputId": "c14bd799-941a-4524-d849-dbd7d84091ee"
      },
      "outputs": [
        {
          "output_type": "stream",
          "name": "stdout",
          "text": [
            "Name: CHAKRI TANGUDU\n",
            "Age: 22\n"
          ]
        }
      ],
      "source": [
        "name = \"CHAKRI TANGUDU\"\n",
        "age = 22\n",
        "# 1. Assigning name and age to variables\n",
        "\n",
        "\n",
        "# Printing name and age\n",
        "print(\"Name:\", name)\n",
        "print(\"Age:\", age)"
      ]
    },
    {
      "cell_type": "code",
      "execution_count": 14,
      "id": "c9276338",
      "metadata": {
        "colab": {
          "base_uri": "https://localhost:8080/"
        },
        "id": "c9276338",
        "outputId": "54773a9a-f9a6-4386-c87c-f611e699e1cd"
      },
      "outputs": [
        {
          "output_type": "stream",
          "name": "stdout",
          "text": [
            "Split string: ['Datascience', 'is', 'used', 'to', 'extract', 'meaningful', 'insights.']\n"
          ]
        }
      ],
      "source": [
        "# 2. Splitting the string\n",
        "X = \"Datascience is used to extract meaningful insights.\"\n",
        "split_string = X.split()\n",
        "print(\"Split string:\", split_string)"
      ]
    },
    {
      "cell_type": "code",
      "execution_count": 15,
      "id": "2a98635a",
      "metadata": {
        "colab": {
          "base_uri": "https://localhost:8080/"
        },
        "id": "2a98635a",
        "outputId": "56c726f3-5941-4701-8547-b0891ee11938"
      },
      "outputs": [
        {
          "output_type": "stream",
          "name": "stdout",
          "text": [
            "Multiplication result: 35\n"
          ]
        }
      ],
      "source": [
        "# 3. Function for multiplication\n",
        "def multiply(a, b):\n",
        "    return a * b\n",
        "\n",
        "result = multiply(5, 7)\n",
        "print(\"Multiplication result:\", result)"
      ]
    },
    {
      "cell_type": "code",
      "execution_count": 16,
      "id": "c0c33c1c",
      "metadata": {
        "colab": {
          "base_uri": "https://localhost:8080/"
        },
        "id": "c0c33c1c",
        "outputId": "8bd61859-c3ff-41b3-85ba-572cb7a5e6a6"
      },
      "outputs": [
        {
          "output_type": "stream",
          "name": "stdout",
          "text": [
            "States:\n",
            "California - Sacramento\n",
            "Texas - Austin\n",
            "New York - Albany\n",
            "Florida - Tallahassee\n",
            "Illinois - Springfield\n"
          ]
        }
      ],
      "source": [
        "# 4. Dictionary of states and capitals\n",
        "states = {\n",
        "    \"California\": \"Sacramento\",\n",
        "    \"Texas\": \"Austin\",\n",
        "    \"New York\": \"Albany\",\n",
        "    \"Florida\": \"Tallahassee\",\n",
        "    \"Illinois\": \"Springfield\"\n",
        "}\n",
        "\n",
        "# Printing keys and values of the dictionary\n",
        "print(\"States:\")\n",
        "for state, capital in states.items():\n",
        "    print(state, \"-\", capital)"
      ]
    },
    {
      "cell_type": "code",
      "execution_count": 17,
      "id": "f5e31d19",
      "metadata": {
        "colab": {
          "base_uri": "https://localhost:8080/"
        },
        "id": "f5e31d19",
        "outputId": "104080ed-e82c-4140-ea01-67b938f6b03c"
      },
      "outputs": [
        {
          "output_type": "stream",
          "name": "stdout",
          "text": [
            "Number list: [1, 2, 3, 4, 5, 6, 7, 8, 9, 10, 11, 12, 13, 14, 15, 16, 17, 18, 19, 20, 21, 22, 23, 24, 25, 26, 27, 28, 29, 30, 31, 32, 33, 34, 35, 36, 37, 38, 39, 40, 41, 42, 43, 44, 45, 46, 47, 48, 49, 50, 51, 52, 53, 54, 55, 56, 57, 58, 59, 60, 61, 62, 63, 64, 65, 66, 67, 68, 69, 70, 71, 72, 73, 74, 75, 76, 77, 78, 79, 80, 81, 82, 83, 84, 85, 86, 87, 88, 89, 90, 91, 92, 93, 94, 95, 96, 97, 98, 99, 100, 101, 102, 103, 104, 105, 106, 107, 108, 109, 110, 111, 112, 113, 114, 115, 116, 117, 118, 119, 120, 121, 122, 123, 124, 125, 126, 127, 128, 129, 130, 131, 132, 133, 134, 135, 136, 137, 138, 139, 140, 141, 142, 143, 144, 145, 146, 147, 148, 149, 150, 151, 152, 153, 154, 155, 156, 157, 158, 159, 160, 161, 162, 163, 164, 165, 166, 167, 168, 169, 170, 171, 172, 173, 174, 175, 176, 177, 178, 179, 180, 181, 182, 183, 184, 185, 186, 187, 188, 189, 190, 191, 192, 193, 194, 195, 196, 197, 198, 199, 200, 201, 202, 203, 204, 205, 206, 207, 208, 209, 210, 211, 212, 213, 214, 215, 216, 217, 218, 219, 220, 221, 222, 223, 224, 225, 226, 227, 228, 229, 230, 231, 232, 233, 234, 235, 236, 237, 238, 239, 240, 241, 242, 243, 244, 245, 246, 247, 248, 249, 250, 251, 252, 253, 254, 255, 256, 257, 258, 259, 260, 261, 262, 263, 264, 265, 266, 267, 268, 269, 270, 271, 272, 273, 274, 275, 276, 277, 278, 279, 280, 281, 282, 283, 284, 285, 286, 287, 288, 289, 290, 291, 292, 293, 294, 295, 296, 297, 298, 299, 300, 301, 302, 303, 304, 305, 306, 307, 308, 309, 310, 311, 312, 313, 314, 315, 316, 317, 318, 319, 320, 321, 322, 323, 324, 325, 326, 327, 328, 329, 330, 331, 332, 333, 334, 335, 336, 337, 338, 339, 340, 341, 342, 343, 344, 345, 346, 347, 348, 349, 350, 351, 352, 353, 354, 355, 356, 357, 358, 359, 360, 361, 362, 363, 364, 365, 366, 367, 368, 369, 370, 371, 372, 373, 374, 375, 376, 377, 378, 379, 380, 381, 382, 383, 384, 385, 386, 387, 388, 389, 390, 391, 392, 393, 394, 395, 396, 397, 398, 399, 400, 401, 402, 403, 404, 405, 406, 407, 408, 409, 410, 411, 412, 413, 414, 415, 416, 417, 418, 419, 420, 421, 422, 423, 424, 425, 426, 427, 428, 429, 430, 431, 432, 433, 434, 435, 436, 437, 438, 439, 440, 441, 442, 443, 444, 445, 446, 447, 448, 449, 450, 451, 452, 453, 454, 455, 456, 457, 458, 459, 460, 461, 462, 463, 464, 465, 466, 467, 468, 469, 470, 471, 472, 473, 474, 475, 476, 477, 478, 479, 480, 481, 482, 483, 484, 485, 486, 487, 488, 489, 490, 491, 492, 493, 494, 495, 496, 497, 498, 499, 500, 501, 502, 503, 504, 505, 506, 507, 508, 509, 510, 511, 512, 513, 514, 515, 516, 517, 518, 519, 520, 521, 522, 523, 524, 525, 526, 527, 528, 529, 530, 531, 532, 533, 534, 535, 536, 537, 538, 539, 540, 541, 542, 543, 544, 545, 546, 547, 548, 549, 550, 551, 552, 553, 554, 555, 556, 557, 558, 559, 560, 561, 562, 563, 564, 565, 566, 567, 568, 569, 570, 571, 572, 573, 574, 575, 576, 577, 578, 579, 580, 581, 582, 583, 584, 585, 586, 587, 588, 589, 590, 591, 592, 593, 594, 595, 596, 597, 598, 599, 600, 601, 602, 603, 604, 605, 606, 607, 608, 609, 610, 611, 612, 613, 614, 615, 616, 617, 618, 619, 620, 621, 622, 623, 624, 625, 626, 627, 628, 629, 630, 631, 632, 633, 634, 635, 636, 637, 638, 639, 640, 641, 642, 643, 644, 645, 646, 647, 648, 649, 650, 651, 652, 653, 654, 655, 656, 657, 658, 659, 660, 661, 662, 663, 664, 665, 666, 667, 668, 669, 670, 671, 672, 673, 674, 675, 676, 677, 678, 679, 680, 681, 682, 683, 684, 685, 686, 687, 688, 689, 690, 691, 692, 693, 694, 695, 696, 697, 698, 699, 700, 701, 702, 703, 704, 705, 706, 707, 708, 709, 710, 711, 712, 713, 714, 715, 716, 717, 718, 719, 720, 721, 722, 723, 724, 725, 726, 727, 728, 729, 730, 731, 732, 733, 734, 735, 736, 737, 738, 739, 740, 741, 742, 743, 744, 745, 746, 747, 748, 749, 750, 751, 752, 753, 754, 755, 756, 757, 758, 759, 760, 761, 762, 763, 764, 765, 766, 767, 768, 769, 770, 771, 772, 773, 774, 775, 776, 777, 778, 779, 780, 781, 782, 783, 784, 785, 786, 787, 788, 789, 790, 791, 792, 793, 794, 795, 796, 797, 798, 799, 800, 801, 802, 803, 804, 805, 806, 807, 808, 809, 810, 811, 812, 813, 814, 815, 816, 817, 818, 819, 820, 821, 822, 823, 824, 825, 826, 827, 828, 829, 830, 831, 832, 833, 834, 835, 836, 837, 838, 839, 840, 841, 842, 843, 844, 845, 846, 847, 848, 849, 850, 851, 852, 853, 854, 855, 856, 857, 858, 859, 860, 861, 862, 863, 864, 865, 866, 867, 868, 869, 870, 871, 872, 873, 874, 875, 876, 877, 878, 879, 880, 881, 882, 883, 884, 885, 886, 887, 888, 889, 890, 891, 892, 893, 894, 895, 896, 897, 898, 899, 900, 901, 902, 903, 904, 905, 906, 907, 908, 909, 910, 911, 912, 913, 914, 915, 916, 917, 918, 919, 920, 921, 922, 923, 924, 925, 926, 927, 928, 929, 930, 931, 932, 933, 934, 935, 936, 937, 938, 939, 940, 941, 942, 943, 944, 945, 946, 947, 948, 949, 950, 951, 952, 953, 954, 955, 956, 957, 958, 959, 960, 961, 962, 963, 964, 965, 966, 967, 968, 969, 970, 971, 972, 973, 974, 975, 976, 977, 978, 979, 980, 981, 982, 983, 984, 985, 986, 987, 988, 989, 990, 991, 992, 993, 994, 995, 996, 997, 998, 999, 1000]\n"
          ]
        }
      ],
      "source": [
        "# 5. List of 1000 numbers\n",
        "number_list = list(range(1, 1001))\n",
        "print(\"Number list:\", number_list)"
      ]
    },
    {
      "cell_type": "code",
      "execution_count": 18,
      "id": "0ac31c18",
      "metadata": {
        "colab": {
          "base_uri": "https://localhost:8080/"
        },
        "id": "0ac31c18",
        "outputId": "2e34e359-b716-40f1-fbdd-9372c4ffa9e7"
      },
      "outputs": [
        {
          "output_type": "stream",
          "name": "stdout",
          "text": [
            "Identity matrix:\n",
            "[1, 0, 0, 0]\n",
            "[0, 1, 0, 0]\n",
            "[0, 0, 1, 0]\n",
            "[0, 0, 0, 1]\n"
          ]
        }
      ],
      "source": [
        "# 6. Identity matrix\n",
        "identity_matrix = [[1 if i == j else 0 for j in range(4)] for i in range(4)]\n",
        "print(\"Identity matrix:\")\n",
        "for row in identity_matrix:\n",
        "    print(row)"
      ]
    },
    {
      "cell_type": "code",
      "execution_count": 19,
      "id": "b9ce42bd",
      "metadata": {
        "colab": {
          "base_uri": "https://localhost:8080/"
        },
        "id": "b9ce42bd",
        "outputId": "524305a8-bdce-418e-bd97-83971f2de7fe"
      },
      "outputs": [
        {
          "output_type": "stream",
          "name": "stdout",
          "text": [
            "Matrix:\n",
            "[1, 2, 3]\n",
            "[4, 5, 6]\n",
            "[7, 8, 9]\n"
          ]
        }
      ],
      "source": [
        "# 7. Matrix with values ranging from 1 to 9\n",
        "matrix = [[j for j in range(i * 3 + 1, (i + 1) * 3 + 1)] for i in range(3)]\n",
        "print(\"Matrix:\")\n",
        "for row in matrix:\n",
        "    print(row)"
      ]
    },
    {
      "cell_type": "code",
      "execution_count": 20,
      "id": "f1188625",
      "metadata": {
        "colab": {
          "base_uri": "https://localhost:8080/"
        },
        "id": "f1188625",
        "outputId": "70d32a10-d033-44ee-c59f-66732dbde32f"
      },
      "outputs": [
        {
          "output_type": "stream",
          "name": "stdout",
          "text": [
            "Sum of arrays: [6, 8, 10, 12]\n"
          ]
        }
      ],
      "source": [
        "# 8. Sum of two arrays\n",
        "array1 = [1, 2, 3, 4]\n",
        "array2 = [5, 6, 7, 8]\n",
        "sum_array = [a + b for a, b in zip(array1, array2)]\n",
        "print(\"Sum of arrays:\", sum_array)"
      ]
    },
    {
      "cell_type": "code",
      "execution_count": 21,
      "id": "dcbdcc3a",
      "metadata": {
        "colab": {
          "base_uri": "https://localhost:8080/"
        },
        "id": "dcbdcc3a",
        "outputId": "36479410-a0f0-4c99-f045-7bb9fc85f535"
      },
      "outputs": [
        {
          "output_type": "stream",
          "name": "stdout",
          "text": [
            "Dates:\n",
            "2023-02-01\n",
            "2023-02-02\n",
            "2023-02-03\n",
            "2023-02-04\n",
            "2023-02-05\n",
            "2023-02-06\n",
            "2023-02-07\n",
            "2023-02-08\n",
            "2023-02-09\n",
            "2023-02-10\n",
            "2023-02-11\n",
            "2023-02-12\n",
            "2023-02-13\n",
            "2023-02-14\n",
            "2023-02-15\n",
            "2023-02-16\n",
            "2023-02-17\n",
            "2023-02-18\n",
            "2023-02-19\n",
            "2023-02-20\n",
            "2023-02-21\n",
            "2023-02-22\n",
            "2023-02-23\n",
            "2023-02-24\n",
            "2023-02-25\n",
            "2023-02-26\n",
            "2023-02-27\n",
            "2023-02-28\n",
            "2023-03-01\n"
          ]
        }
      ],
      "source": [
        "# 9. Generating series of dates\n",
        "from datetime import date, timedelta\n",
        "\n",
        "start_date = date(2023, 2, 1)\n",
        "end_date = date(2023, 3, 1)\n",
        "dates = []\n",
        "current_date = start_date\n",
        "\n",
        "while current_date <= end_date:\n",
        "    dates.append(current_date)\n",
        "    current_date += timedelta(days=1)\n",
        "\n",
        "print(\"Dates:\")\n",
        "for date_item in dates:\n",
        "    print(date_item)"
      ]
    },
    {
      "cell_type": "code",
      "execution_count": 22,
      "id": "f071af49",
      "metadata": {
        "colab": {
          "base_uri": "https://localhost:8080/"
        },
        "id": "f071af49",
        "outputId": "bfc45d48-7078-444e-b9c5-6ef070219f18"
      },
      "outputs": [
        {
          "output_type": "stream",
          "name": "stdout",
          "text": [
            "Dataframe:\n",
            "     Brand  Sales\n",
            "0   Maruti    250\n",
            "1  Renault    200\n",
            "2  Hyundai    240\n"
          ]
        }
      ],
      "source": [
        "# 10. Converting dictionary to dataframe\n",
        "import pandas as pd\n",
        "\n",
        "dictionary = {'Brand': ['Maruti', 'Renault', 'Hyundai'], 'Sales': [250, 200, 240]}\n",
        "df = pd.DataFrame(dictionary)\n",
        "print(\"Dataframe:\")\n",
        "print(df)"
      ]
    },
    {
      "cell_type": "code",
      "execution_count": 22,
      "id": "fca133f9",
      "metadata": {
        "id": "fca133f9"
      },
      "outputs": [],
      "source": []
    }
  ],
  "metadata": {
    "kernelspec": {
      "display_name": "Python 3 (ipykernel)",
      "language": "python",
      "name": "python3"
    },
    "language_info": {
      "codemirror_mode": {
        "name": "ipython",
        "version": 3
      },
      "file_extension": ".py",
      "mimetype": "text/x-python",
      "name": "python",
      "nbconvert_exporter": "python",
      "pygments_lexer": "ipython3",
      "version": "3.8.16"
    },
    "colab": {
      "provenance": []
    }
  },
  "nbformat": 4,
  "nbformat_minor": 5
}